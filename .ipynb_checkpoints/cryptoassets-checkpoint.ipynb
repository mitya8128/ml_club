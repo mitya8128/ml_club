{
 "cells": [
  {
   "cell_type": "code",
   "execution_count": 9,
   "metadata": {
    "collapsed": true
   },
   "outputs": [],
   "source": [
    "import numpy as np\n",
    "import pandas as pd\n",
    "import sklearn"
   ]
  },
  {
   "cell_type": "code",
   "execution_count": 6,
   "metadata": {
    "collapsed": true
   },
   "outputs": [],
   "source": [
    "data = pd.read_csv('../ml_club/data/cryptoasssets/bitcoin.csv', sep=';')"
   ]
  },
  {
   "cell_type": "code",
   "execution_count": 14,
   "metadata": {},
   "outputs": [
    {
     "data": {
      "text/html": [
       "<div>\n",
       "<style>\n",
       "    .dataframe thead tr:only-child th {\n",
       "        text-align: right;\n",
       "    }\n",
       "\n",
       "    .dataframe thead th {\n",
       "        text-align: left;\n",
       "    }\n",
       "\n",
       "    .dataframe tbody tr th {\n",
       "        vertical-align: top;\n",
       "    }\n",
       "</style>\n",
       "<table border=\"1\" class=\"dataframe\">\n",
       "  <thead>\n",
       "    <tr style=\"text-align: right;\">\n",
       "      <th></th>\n",
       "      <th>Date</th>\n",
       "      <th>Open</th>\n",
       "      <th>High</th>\n",
       "      <th>Low</th>\n",
       "      <th>Close</th>\n",
       "      <th>Volume</th>\n",
       "      <th>MarketCap</th>\n",
       "    </tr>\n",
       "  </thead>\n",
       "  <tbody>\n",
       "    <tr>\n",
       "      <th>0</th>\n",
       "      <td>22/11/2017</td>\n",
       "      <td>8077.95</td>\n",
       "      <td>8302.26</td>\n",
       "      <td>8075.47</td>\n",
       "      <td>8253.55</td>\n",
       "      <td>3633530000</td>\n",
       "      <td>134851000000</td>\n",
       "    </tr>\n",
       "    <tr>\n",
       "      <th>1</th>\n",
       "      <td>21/11/2017</td>\n",
       "      <td>8205.74</td>\n",
       "      <td>8348.66</td>\n",
       "      <td>7762.71</td>\n",
       "      <td>8071.26</td>\n",
       "      <td>4277610000</td>\n",
       "      <td>136967000000</td>\n",
       "    </tr>\n",
       "    <tr>\n",
       "      <th>2</th>\n",
       "      <td>20/11/2017</td>\n",
       "      <td>8039.07</td>\n",
       "      <td>8336.86</td>\n",
       "      <td>7949.36</td>\n",
       "      <td>8200.64</td>\n",
       "      <td>3488450000</td>\n",
       "      <td>134167000000</td>\n",
       "    </tr>\n",
       "    <tr>\n",
       "      <th>3</th>\n",
       "      <td>19/11/2017</td>\n",
       "      <td>7766.03</td>\n",
       "      <td>8101.91</td>\n",
       "      <td>7694.10</td>\n",
       "      <td>8036.49</td>\n",
       "      <td>3149320000</td>\n",
       "      <td>129595000000</td>\n",
       "    </tr>\n",
       "    <tr>\n",
       "      <th>4</th>\n",
       "      <td>18/11/2017</td>\n",
       "      <td>7697.21</td>\n",
       "      <td>7884.99</td>\n",
       "      <td>7463.44</td>\n",
       "      <td>7790.15</td>\n",
       "      <td>3667190000</td>\n",
       "      <td>128425000000</td>\n",
       "    </tr>\n",
       "  </tbody>\n",
       "</table>\n",
       "</div>"
      ],
      "text/plain": [
       "         Date     Open     High      Low    Close      Volume     MarketCap\n",
       "0  22/11/2017  8077.95  8302.26  8075.47  8253.55  3633530000  134851000000\n",
       "1  21/11/2017  8205.74  8348.66  7762.71  8071.26  4277610000  136967000000\n",
       "2  20/11/2017  8039.07  8336.86  7949.36  8200.64  3488450000  134167000000\n",
       "3  19/11/2017  7766.03  8101.91  7694.10  8036.49  3149320000  129595000000\n",
       "4  18/11/2017  7697.21  7884.99  7463.44  7790.15  3667190000  128425000000"
      ]
     },
     "execution_count": 14,
     "metadata": {},
     "output_type": "execute_result"
    }
   ],
   "source": [
    "data.head()"
   ]
  },
  {
   "cell_type": "code",
   "execution_count": 15,
   "metadata": {},
   "outputs": [
    {
     "data": {
      "text/plain": [
       "count    1.670000e+03\n",
       "mean     1.369657e+10\n",
       "std      2.117795e+10\n",
       "min      7.792550e+08\n",
       "25%      3.775548e+09\n",
       "50%      6.601560e+09\n",
       "75%      1.074598e+10\n",
       "max      1.369670e+11\n",
       "Name: MarketCap, dtype: float64"
      ]
     },
     "execution_count": 15,
     "metadata": {},
     "output_type": "execute_result"
    }
   ],
   "source": [
    "data['MarketCap']"
   ]
  },
  {
   "cell_type": "code",
   "execution_count": 16,
   "metadata": {},
   "outputs": [],
   "source": [
    "from sklearn.model_selection import train_test_split"
   ]
  },
  {
   "cell_type": "code",
   "execution_count": 18,
   "metadata": {},
   "outputs": [],
   "source": [
    "data_train, data_test = train_test_split(data, test_size=0.33)"
   ]
  },
  {
   "cell_type": "code",
   "execution_count": 21,
   "metadata": {},
   "outputs": [
    {
     "data": {
      "text/html": [
       "<div>\n",
       "<style>\n",
       "    .dataframe thead tr:only-child th {\n",
       "        text-align: right;\n",
       "    }\n",
       "\n",
       "    .dataframe thead th {\n",
       "        text-align: left;\n",
       "    }\n",
       "\n",
       "    .dataframe tbody tr th {\n",
       "        vertical-align: top;\n",
       "    }\n",
       "</style>\n",
       "<table border=\"1\" class=\"dataframe\">\n",
       "  <thead>\n",
       "    <tr style=\"text-align: right;\">\n",
       "      <th></th>\n",
       "      <th>Open</th>\n",
       "      <th>High</th>\n",
       "      <th>Low</th>\n",
       "      <th>Close</th>\n",
       "      <th>Volume</th>\n",
       "      <th>MarketCap</th>\n",
       "    </tr>\n",
       "  </thead>\n",
       "  <tbody>\n",
       "    <tr>\n",
       "      <th>Open</th>\n",
       "      <td>1.000000</td>\n",
       "      <td>0.999193</td>\n",
       "      <td>0.999121</td>\n",
       "      <td>0.998432</td>\n",
       "      <td>0.918201</td>\n",
       "      <td>0.999309</td>\n",
       "    </tr>\n",
       "    <tr>\n",
       "      <th>High</th>\n",
       "      <td>0.999193</td>\n",
       "      <td>1.000000</td>\n",
       "      <td>0.998909</td>\n",
       "      <td>0.999369</td>\n",
       "      <td>0.925655</td>\n",
       "      <td>0.998461</td>\n",
       "    </tr>\n",
       "    <tr>\n",
       "      <th>Low</th>\n",
       "      <td>0.999121</td>\n",
       "      <td>0.998909</td>\n",
       "      <td>1.000000</td>\n",
       "      <td>0.999275</td>\n",
       "      <td>0.913240</td>\n",
       "      <td>0.998687</td>\n",
       "    </tr>\n",
       "    <tr>\n",
       "      <th>Close</th>\n",
       "      <td>0.998432</td>\n",
       "      <td>0.999369</td>\n",
       "      <td>0.999275</td>\n",
       "      <td>1.000000</td>\n",
       "      <td>0.920373</td>\n",
       "      <td>0.997864</td>\n",
       "    </tr>\n",
       "    <tr>\n",
       "      <th>Volume</th>\n",
       "      <td>0.918201</td>\n",
       "      <td>0.925655</td>\n",
       "      <td>0.913240</td>\n",
       "      <td>0.920373</td>\n",
       "      <td>1.000000</td>\n",
       "      <td>0.920592</td>\n",
       "    </tr>\n",
       "    <tr>\n",
       "      <th>MarketCap</th>\n",
       "      <td>0.999309</td>\n",
       "      <td>0.998461</td>\n",
       "      <td>0.998687</td>\n",
       "      <td>0.997864</td>\n",
       "      <td>0.920592</td>\n",
       "      <td>1.000000</td>\n",
       "    </tr>\n",
       "  </tbody>\n",
       "</table>\n",
       "</div>"
      ],
      "text/plain": [
       "               Open      High       Low     Close    Volume  MarketCap\n",
       "Open       1.000000  0.999193  0.999121  0.998432  0.918201   0.999309\n",
       "High       0.999193  1.000000  0.998909  0.999369  0.925655   0.998461\n",
       "Low        0.999121  0.998909  1.000000  0.999275  0.913240   0.998687\n",
       "Close      0.998432  0.999369  0.999275  1.000000  0.920373   0.997864\n",
       "Volume     0.918201  0.925655  0.913240  0.920373  1.000000   0.920592\n",
       "MarketCap  0.999309  0.998461  0.998687  0.997864  0.920592   1.000000"
      ]
     },
     "execution_count": 21,
     "metadata": {},
     "output_type": "execute_result"
    }
   ],
   "source": [
    "data_train.corr()"
   ]
  },
  {
   "cell_type": "code",
   "execution_count": 38,
   "metadata": {
    "collapsed": true
   },
   "outputs": [],
   "source": [
    "import matplotlib as plt\n",
    "import seaborn as sns\n"
   ]
  },
  {
   "cell_type": "code",
   "execution_count": 41,
   "metadata": {},
   "outputs": [],
   "source": [
    "corr_matrix = data_train.corr()"
   ]
  },
  {
   "cell_type": "code",
   "execution_count": 45,
   "metadata": {},
   "outputs": [
    {
     "data": {
      "text/plain": [
       "<matplotlib.axes._subplots.AxesSubplot at 0x16deee654a8>"
      ]
     },
     "execution_count": 45,
     "metadata": {},
     "output_type": "execute_result"
    }
   ],
   "source": [
    "sns.heatmap(corr_matrix)"
   ]
  },
  {
   "cell_type": "code",
   "execution_count": 50,
   "metadata": {},
   "outputs": [
    {
     "name": "stderr",
     "output_type": "stream",
     "text": [
      "C:\\ProgramData\\Anaconda3\\lib\\site-packages\\ipykernel_launcher.py:1: SettingWithCopyWarning: \n",
      "A value is trying to be set on a copy of a slice from a DataFrame.\n",
      "Try using .loc[row_indexer,col_indexer] = value instead\n",
      "\n",
      "See the caveats in the documentation: http://pandas.pydata.org/pandas-docs/stable/indexing.html#indexing-view-versus-copy\n",
      "  \"\"\"Entry point for launching an IPython kernel.\n"
     ]
    }
   ],
   "source": [
    "data_train['open_close_diff'] = data_train['Open'] - data_train['Close']"
   ]
  },
  {
   "cell_type": "code",
   "execution_count": 51,
   "metadata": {},
   "outputs": [
    {
     "data": {
      "text/plain": [
       "1316    -5.21\n",
       "1022     0.66\n",
       "473    -12.75\n",
       "385    -10.76\n",
       "345    -10.05\n",
       "Name: open_close_diff, dtype: float64"
      ]
     },
     "execution_count": 51,
     "metadata": {},
     "output_type": "execute_result"
    }
   ],
   "source": [
    "data_train['open_close_diff'].head()"
   ]
  },
  {
   "cell_type": "code",
   "execution_count": 53,
   "metadata": {},
   "outputs": [
    {
     "name": "stderr",
     "output_type": "stream",
     "text": [
      "C:\\ProgramData\\Anaconda3\\lib\\site-packages\\ipykernel_launcher.py:1: SettingWithCopyWarning: \n",
      "A value is trying to be set on a copy of a slice from a DataFrame.\n",
      "Try using .loc[row_indexer,col_indexer] = value instead\n",
      "\n",
      "See the caveats in the documentation: http://pandas.pydata.org/pandas-docs/stable/indexing.html#indexing-view-versus-copy\n",
      "  \"\"\"Entry point for launching an IPython kernel.\n"
     ]
    },
    {
     "data": {
      "text/html": [
       "<div>\n",
       "<style>\n",
       "    .dataframe thead tr:only-child th {\n",
       "        text-align: right;\n",
       "    }\n",
       "\n",
       "    .dataframe thead th {\n",
       "        text-align: left;\n",
       "    }\n",
       "\n",
       "    .dataframe tbody tr th {\n",
       "        vertical-align: top;\n",
       "    }\n",
       "</style>\n",
       "<table border=\"1\" class=\"dataframe\">\n",
       "  <thead>\n",
       "    <tr style=\"text-align: right;\">\n",
       "      <th></th>\n",
       "      <th>Date</th>\n",
       "      <th>Open</th>\n",
       "      <th>High</th>\n",
       "      <th>Low</th>\n",
       "      <th>Close</th>\n",
       "      <th>Volume</th>\n",
       "      <th>MarketCap</th>\n",
       "      <th>open_close_diff</th>\n",
       "      <th>high_low_diff</th>\n",
       "    </tr>\n",
       "  </thead>\n",
       "  <tbody>\n",
       "    <tr>\n",
       "      <th>1316</th>\n",
       "      <td>16/04/2014</td>\n",
       "      <td>522.18</td>\n",
       "      <td>542.38</td>\n",
       "      <td>502.78</td>\n",
       "      <td>527.39</td>\n",
       "      <td>56480100</td>\n",
       "      <td>6606460000</td>\n",
       "      <td>-5.21</td>\n",
       "      <td>39.60</td>\n",
       "    </tr>\n",
       "    <tr>\n",
       "      <th>1022</th>\n",
       "      <td>04/02/2015</td>\n",
       "      <td>227.51</td>\n",
       "      <td>230.06</td>\n",
       "      <td>221.11</td>\n",
       "      <td>226.85</td>\n",
       "      <td>26594300</td>\n",
       "      <td>3138700000</td>\n",
       "      <td>0.66</td>\n",
       "      <td>8.95</td>\n",
       "    </tr>\n",
       "    <tr>\n",
       "      <th>473</th>\n",
       "      <td>06/08/2016</td>\n",
       "      <td>575.03</td>\n",
       "      <td>588.40</td>\n",
       "      <td>569.47</td>\n",
       "      <td>587.78</td>\n",
       "      <td>80797300</td>\n",
       "      <td>9083510000</td>\n",
       "      <td>-12.75</td>\n",
       "      <td>18.93</td>\n",
       "    </tr>\n",
       "    <tr>\n",
       "      <th>385</th>\n",
       "      <td>02/11/2016</td>\n",
       "      <td>730.07</td>\n",
       "      <td>740.83</td>\n",
       "      <td>722.35</td>\n",
       "      <td>740.83</td>\n",
       "      <td>84865200</td>\n",
       "      <td>11647200000</td>\n",
       "      <td>-10.76</td>\n",
       "      <td>18.48</td>\n",
       "    </tr>\n",
       "    <tr>\n",
       "      <th>345</th>\n",
       "      <td>12/12/2016</td>\n",
       "      <td>770.04</td>\n",
       "      <td>781.92</td>\n",
       "      <td>770.04</td>\n",
       "      <td>780.09</td>\n",
       "      <td>76571000</td>\n",
       "      <td>12349800000</td>\n",
       "      <td>-10.05</td>\n",
       "      <td>11.88</td>\n",
       "    </tr>\n",
       "  </tbody>\n",
       "</table>\n",
       "</div>"
      ],
      "text/plain": [
       "            Date    Open    High     Low   Close    Volume    MarketCap  \\\n",
       "1316  16/04/2014  522.18  542.38  502.78  527.39  56480100   6606460000   \n",
       "1022  04/02/2015  227.51  230.06  221.11  226.85  26594300   3138700000   \n",
       "473   06/08/2016  575.03  588.40  569.47  587.78  80797300   9083510000   \n",
       "385   02/11/2016  730.07  740.83  722.35  740.83  84865200  11647200000   \n",
       "345   12/12/2016  770.04  781.92  770.04  780.09  76571000  12349800000   \n",
       "\n",
       "      open_close_diff  high_low_diff  \n",
       "1316            -5.21          39.60  \n",
       "1022             0.66           8.95  \n",
       "473            -12.75          18.93  \n",
       "385            -10.76          18.48  \n",
       "345            -10.05          11.88  "
      ]
     },
     "execution_count": 53,
     "metadata": {},
     "output_type": "execute_result"
    }
   ],
   "source": [
    "data_train['high_low_diff'] = data_train['High'] - data_train['Low']\n",
    "data_train.head()"
   ]
  }
 ],
 "metadata": {
  "kernelspec": {
   "display_name": "Python 3",
   "language": "python",
   "name": "python3"
  },
  "language_info": {
   "codemirror_mode": {
    "name": "ipython",
    "version": 3
   },
   "file_extension": ".py",
   "mimetype": "text/x-python",
   "name": "python",
   "nbconvert_exporter": "python",
   "pygments_lexer": "ipython3",
   "version": "3.6.1"
  }
 },
 "nbformat": 4,
 "nbformat_minor": 2
}
